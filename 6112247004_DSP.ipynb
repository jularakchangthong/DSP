{
 "cells": [
  {
   "cell_type": "code",
   "execution_count": null,
   "metadata": {},
   "outputs": [],
   "source": [
    "#ประกาศการเรียกใช้งานฟังก์ชั่น\n",
    "from __future__ import print_function, division\n",
    "\n",
    "%matplotlib inline\n",
    "\n",
    "import thinkdsp\n",
    "import thinkplot\n",
    "\n",
    "import numpy as np\n",
    "\n",
    "from ipywidgets import interact, interactive, fixed\n",
    "import ipywidgets as widgets\n",
    "from IPython.display import display\n",
    "\n"
   ]
  },
  {
   "cell_type": "code",
   "execution_count": null,
   "metadata": {},
   "outputs": [],
   "source": [
    "#lab01\n",
    "sin_wave=thinkdsp.SinSignal(freq=7004, amp=4, offset=0)\n",
    "sin_wave.plot()\n",
    "thinkplot.config(xlabel='Time(s)')"
   ]
  },
  {
   "cell_type": "code",
   "execution_count": null,
   "metadata": {
    "scrolled": true
   },
   "outputs": [],
   "source": [
    "#lab02\n",
    "#Trianglesignal(f)\n",
    "#period*n\n",
    "signal = thinkdsp.TriangleSignal(4)\n",
    "duration = signal.period*4\n",
    "segment = signal.make_wave(duration, framerate=10000)\n",
    "segment.plot()\n",
    "juwave = signal.make_wave(duration, framerate=10000)\n",
    "juwave.apodize()\n",
    "juwave.make_audio()\n",
    "spectrum= juwave.make_spectrum()\n",
    "spectrum.plot()"
   ]
  },
  {
   "cell_type": "code",
   "execution_count": null,
   "metadata": {},
   "outputs": [],
   "source": [
    "#เปลี่ยนสามเหลี่ยนเป็นสี่เปลี่ยน\n",
    "#จากTriangleเป็นSquare\n",
    "signal = thinkdsp.SquareSignal(4)\n",
    "duration = signal.period*40\n",
    "segment = signal.make_wave(duration, framerate=10000)\n",
    "segment.plot()\n",
    "thinkplot.config(ylim=[-1.05,1.05], legend=False)\n",
    "juwave = signal.make_wave(duration, framerate=10000)\n",
    "juwave.apodize()\n",
    "juwave.make_audio()\n"
   ]
  },
  {
   "cell_type": "code",
   "execution_count": null,
   "metadata": {},
   "outputs": [],
   "source": []
  },
  {
   "cell_type": "code",
   "execution_count": null,
   "metadata": {},
   "outputs": [],
   "source": []
  }
 ],
 "metadata": {
  "kernelspec": {
   "display_name": "Python 3",
   "language": "python",
   "name": "python3"
  },
  "language_info": {
   "codemirror_mode": {
    "name": "ipython",
    "version": 3
   },
   "file_extension": ".py",
   "mimetype": "text/x-python",
   "name": "python",
   "nbconvert_exporter": "python",
   "pygments_lexer": "ipython3",
   "version": "3.7.3"
  }
 },
 "nbformat": 4,
 "nbformat_minor": 2
}
